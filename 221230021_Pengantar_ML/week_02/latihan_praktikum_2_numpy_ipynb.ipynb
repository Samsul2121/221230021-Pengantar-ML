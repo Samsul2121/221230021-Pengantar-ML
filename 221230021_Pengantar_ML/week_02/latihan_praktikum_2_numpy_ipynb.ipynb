{
  "nbformat": 4,
  "nbformat_minor": 0,
  "metadata": {
    "colab": {
      "provenance": [],
      "authorship_tag": "ABX9TyNLpV+oms75/Ilj37WADp/Q",
      "include_colab_link": true
    },
    "kernelspec": {
      "name": "python3",
      "display_name": "Python 3"
    },
    "language_info": {
      "name": "python"
    }
  },
  "cells": [
    {
      "cell_type": "markdown",
      "metadata": {
        "id": "view-in-github",
        "colab_type": "text"
      },
      "source": [
        "<a href=\"https://colab.research.google.com/github/Samsul2121/221230021-Pengantar-ML/blob/main/221230021_Pengantar_ML/week_02/latihan_praktikum_2_numpy_ipynb.ipynb\" target=\"_parent\"><img src=\"https://colab.research.google.com/assets/colab-badge.svg\" alt=\"Open In Colab\"/></a>"
      ]
    },
    {
      "cell_type": "code",
      "execution_count": 2,
      "metadata": {
        "colab": {
          "base_uri": "https://localhost:8080/"
        },
        "id": "w3sTQpxAjP4u",
        "outputId": "e97578b7-c316-44b8-80a6-745c7330162a"
      },
      "outputs": [
        {
          "output_type": "stream",
          "name": "stdout",
          "text": [
            "✅ Semua fungsi berjalan dengan baik!\n",
            "✅ NumPy operations completed\n",
            "X_normalized:\n",
            " [[ 0.604418   -0.21979528  0.75746006  1.461092   -0.18919425]\n",
            " [-0.21141045  1.53420502  0.87977344 -0.62585547  0.53845484]\n",
            " [-0.46735006 -0.55422449  0.34303561 -2.13809665 -1.58578836]\n",
            " [-0.57771567 -1.1129603   0.41687036 -1.08519209 -1.2929218 ]\n",
            " [ 1.68601234 -0.30916828  0.16486193 -1.62640854 -0.47982667]]\n",
            "X_cleaned:\n",
            " [[ 0.604418   -0.21979528  0.75746006  1.461092   -0.18919425]\n",
            " [-0.21141045  1.53420502  0.87977344 -0.62585547  0.53845484]\n",
            " [-0.46735006 -0.55422449  0.34303561 -2.13809665 -1.58578836]\n",
            " [-0.57771567 -1.1129603   0.41687036 -1.08519209 -1.2929218 ]\n",
            " [ 1.68601234 -0.30916828  0.16486193 -1.62640854 -0.47982667]]\n",
            "One-hot labels:\n",
            " [[1. 0. 0.]\n",
            " [0. 1. 0.]\n",
            " [0. 0. 1.]\n",
            " [1. 0. 0.]\n",
            " [0. 1. 0.]\n",
            " [0. 0. 1.]\n",
            " [1. 0. 0.]]\n"
          ]
        }
      ],
      "source": [
        "import numpy as np\n",
        "\n",
        "# TODO 1: Z-score Normalization\n",
        "def z_score_normalization(data):\n",
        "    \"\"\"\n",
        "    Normalisasi data menggunakan Z-score.\n",
        "    (x - mean) / std\n",
        "    \"\"\"\n",
        "    if data.size == 0:\n",
        "        raise ValueError(\"Input array kosong.\")\n",
        "\n",
        "    mean = np.mean(data, axis=0)\n",
        "    std = np.std(data, axis=0)\n",
        "    if np.any(std == 0):\n",
        "        raise ValueError(\"Std dev = 0, normalisasi tidak bisa dilakukan.\")\n",
        "\n",
        "    return (data - mean) / std\n",
        "\n",
        "\n",
        "# TODO 2: Handle Outliers\n",
        "def handle_outliers(data, std_threshold=3):\n",
        "    \"\"\"\n",
        "    Clip nilai di luar ±threshold*std ke boundary terdekat.\n",
        "    \"\"\"\n",
        "    if data.size == 0:\n",
        "        raise ValueError(\"Input array kosong.\")\n",
        "\n",
        "    mean = np.mean(data, axis=0)\n",
        "    std = np.std(data, axis=0)\n",
        "    lower, upper = mean - std_threshold * std, mean + std_threshold * std\n",
        "    return np.clip(data, lower, upper)\n",
        "\n",
        "\n",
        "# TODO 3: One-hot Encoding\n",
        "def one_hot_encoding(labels):\n",
        "    \"\"\"\n",
        "    Konversi label kategorikal (integer) menjadi one-hot array.\n",
        "    Contoh: [0,1,2] -> [[1,0,0],[0,1,0],[0,0,1]]\n",
        "    \"\"\"\n",
        "    if labels.size == 0:\n",
        "        raise ValueError(\"Labels kosong.\")\n",
        "\n",
        "    n_classes = np.max(labels) + 1\n",
        "    return np.eye(n_classes)[labels]\n",
        "\n",
        "\n",
        "# TODO 4: Train-test split manual\n",
        "def train_test_split_numpy(X, y, test_size=0.2, seed=42):\n",
        "    \"\"\"\n",
        "    Membagi dataset menjadi train dan test set tanpa sklearn.\n",
        "    \"\"\"\n",
        "    if X.shape[0] != y.shape[0]:\n",
        "        raise ValueError(\"Jumlah sampel X dan y tidak sama.\")\n",
        "\n",
        "    np.random.seed(seed)\n",
        "    indices = np.arange(X.shape[0])\n",
        "    np.random.shuffle(indices)\n",
        "\n",
        "    test_count = int(test_size * X.shape[0])\n",
        "    test_idx, train_idx = indices[:test_count], indices[test_count:]\n",
        "\n",
        "    return X[train_idx], X[test_idx], y[train_idx], y[test_idx]\n",
        "\n",
        "\n",
        "# === Contoh Pemakaian ===\n",
        "np.random.seed(42)\n",
        "X = np.random.randn(100, 5) * 10 + 5\n",
        "labels = np.array([0, 1, 2, 0, 1, 2, 0])\n",
        "\n",
        "# Z-score normalization\n",
        "X_normalized = z_score_normalization(X)\n",
        "\n",
        "# Handle outliers\n",
        "X_cleaned = handle_outliers(X_normalized)\n",
        "\n",
        "# One-hot encoding\n",
        "one_hot_labels = one_hot_encoding(labels)\n",
        "\n",
        "# Train-test split\n",
        "y = np.random.randint(0, 3, 100)\n",
        "X_train, X_test, y_train, y_test = train_test_split_numpy(X, y)\n",
        "\n",
        "# === Unit Tests ===\n",
        "assert X_normalized.shape == X.shape\n",
        "assert np.allclose(X_normalized.mean(), 0, atol=1e-10)\n",
        "assert np.allclose(X_normalized.std(), 1, atol=1e-10)\n",
        "assert one_hot_labels.shape == (labels.shape[0], np.max(labels)+1)\n",
        "\n",
        "print(\"✅ Semua fungsi berjalan dengan baik!\")\n",
        "\n",
        "print(\"✅ NumPy operations completed\")\n",
        "print(\"X_normalized:\\n\", X_normalized[:5])\n",
        "print(\"X_cleaned:\\n\", X_cleaned[:5])\n",
        "print(\"One-hot labels:\\n\", one_hot_labels)"
      ]
    }
  ]
}